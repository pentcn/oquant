{
 "cells": [
  {
   "cell_type": "code",
   "execution_count": 1,
   "metadata": {},
   "outputs": [
    {
     "name": "stderr",
     "output_type": "stream",
     "text": [
      "C:\\Users\\pentcn\\AppData\\Local\\Temp\\ipykernel_42508\\2055470003.py:1: DeprecationWarning: \n",
      "Pyarrow will become a required dependency of pandas in the next major release of pandas (pandas 3.0),\n",
      "(to allow more performant data types, such as the Arrow string type, and better interoperability with other libraries)\n",
      "but was not found to be installed on your system.\n",
      "If this would cause problems for you,\n",
      "please provide us feedback at https://github.com/pandas-dev/pandas/issues/54466\n",
      "        \n",
      "  import pandas as pd\n"
     ]
    }
   ],
   "source": [
    "import pandas as pd\n",
    "\n",
    "pd.set_option('display.max_rows', None)"
   ]
  },
  {
   "cell_type": "code",
   "execution_count": null,
   "metadata": {},
   "outputs": [],
   "source": [
    "class OptionStrategy:\n",
    "    \n",
    "    def __init__(self, id, account_id, name, underlying_symbol, **kwargs):\n",
    "        self.id = id\n",
    "        self.account_id = account_id\n",
    "        self.name = name\n",
    "        self.underlying_symbol = underlying_symbol\n",
    "        self.params = kwargs\n",
    "    \n",
    "    def set_contracts(self, contracts):\n",
    "        self.contracts = contracts\n",
    "        \n",
    "    def __getattr__(self, item):\n",
    "        try:\n",
    "            return self.params[item]\n",
    "        except KeyError:\n",
    "            raise AttributeError(f\"'OptionStrategy' 策略{self.id}没有参数： '{item}'\")"
   ]
  },
  {
   "cell_type": "code",
   "execution_count": null,
   "metadata": {},
   "outputs": [],
   "source": []
  }
 ],
 "metadata": {
  "kernelspec": {
   "display_name": "oquant",
   "language": "python",
   "name": "python3"
  },
  "language_info": {
   "codemirror_mode": {
    "name": "ipython",
    "version": 3
   },
   "file_extension": ".py",
   "mimetype": "text/x-python",
   "name": "python",
   "nbconvert_exporter": "python",
   "pygments_lexer": "ipython3",
   "version": "3.11.7"
  }
 },
 "nbformat": 4,
 "nbformat_minor": 2
}
