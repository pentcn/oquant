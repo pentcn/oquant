{
 "cells": [
  {
   "cell_type": "code",
   "execution_count": 6,
   "metadata": {},
   "outputs": [],
   "source": [
    "import calendar\n",
    "from datetime import datetime, date, timedelta\n"
   ]
  },
  {
   "cell_type": "code",
   "execution_count": 25,
   "metadata": {},
   "outputs": [],
   "source": [
    "def get_fourth_wednesday(year, month):\n",
    "    \"\"\"\n",
    "    返回指定年月的第 4 个星期三的日期。\n",
    "    \n",
    "    参数:\n",
    "    - year: 年份 (int)\n",
    "    - month: 月份 (int)\n",
    "    \n",
    "    返回:\n",
    "    - 第 4 个星期三的日期 (datetime.date)\n",
    "    \"\"\"\n",
    "    # 每月的第一天是星期几（0=星期一，6=星期日）以及该月的天数\n",
    "    first_day_of_month_weekday, days_in_month = calendar.monthrange(year, month)\n",
    "    \n",
    "    # 计算第一个星期三的日期\n",
    "    # 如果第一天是星期四(3)或更晚，那么第一个星期三会在第二周\n",
    "    first_wednesday = (2 - first_day_of_month_weekday + 7) % 7 + 1\n",
    "    \n",
    "    # 计算第四个星期三的日期\n",
    "    fourth_wednesday = first_wednesday + 3 * 7  # 在第一个星期三的基础上加上 3 周\n",
    "    \n",
    "    # 如果计算结果超出了月份的天数，说明第一个星期三在第一周，需要调整\n",
    "    if fourth_wednesday > days_in_month:\n",
    "        fourth_wednesday -= 7\n",
    "    \n",
    "    return datetime(year, month, fourth_wednesday).date()\n",
    "\n",
    "def get_exit_date(dt, month_type, expired_date):\n",
    "    (year, month) = (dt.year, dt.month + 1) if dt.month < 12 else (dt.year+1, 1)\n",
    "    next_expired_date = get_fourth_wednesday(year, month)\n",
    "    \n",
    "    if month_type == 1 and dt.date() >= expired_date:            \n",
    "        exit_date = next_expired_date\n",
    "    elif month_type == 0 and dt.date() < expired_date:\n",
    "        exit_date = expired_date\n",
    "    else:\n",
    "        diff_days = (expired_date - dt.date()).days\n",
    "        exit_date = next_expired_date - timedelta(days=diff_days)\n",
    "        \n",
    "    return exit_date.strftime('%Y-%m-%d')"
   ]
  },
  {
   "cell_type": "code",
   "execution_count": 27,
   "metadata": {},
   "outputs": [
    {
     "data": {
      "text/plain": [
       "'2020-11-26'"
      ]
     },
     "execution_count": 27,
     "metadata": {},
     "output_type": "execute_result"
    }
   ],
   "source": [
    "get_exit_date(datetime(2020, 10, 29), 0,  date(2020, 10, 28))"
   ]
  },
  {
   "cell_type": "code",
   "execution_count": null,
   "metadata": {},
   "outputs": [],
   "source": []
  }
 ],
 "metadata": {
  "kernelspec": {
   "display_name": "oquant",
   "language": "python",
   "name": "python3"
  },
  "language_info": {
   "codemirror_mode": {
    "name": "ipython",
    "version": 3
   },
   "file_extension": ".py",
   "mimetype": "text/x-python",
   "name": "python",
   "nbconvert_exporter": "python",
   "pygments_lexer": "ipython3",
   "version": "3.12.0"
  }
 },
 "nbformat": 4,
 "nbformat_minor": 2
}
