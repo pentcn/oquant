{
 "cells": [
  {
   "cell_type": "code",
   "execution_count": 1,
   "metadata": {},
   "outputs": [],
   "source": [
    "import sys\n",
    "sys.path.append('..')"
   ]
  },
  {
   "cell_type": "code",
   "execution_count": 2,
   "metadata": {},
   "outputs": [],
   "source": [
    "import pika\n",
    "import json\n",
    "import threading\n",
    "import time\n",
    "from datetime import datetime\n",
    "from common.utilities import dataclass_to_dict\n",
    "\n",
    "class MessageQueue:\n",
    "    def __init__(self, user_name, password, host, vhost, queue_name, on_message_callback=None):\n",
    "        self.user_name = user_name\n",
    "        self.password = password\n",
    "        self.host = host\n",
    "        self.vhost = vhost\n",
    "        self.receive_queue_name = f'req{queue_name}'\n",
    "        self.send_queue_name = f'res{queue_name}'\n",
    "        self.on_message_callback = on_message_callback\n",
    "        self.connection = None\n",
    "        self.channel = None\n",
    "        self.lock = threading.Lock()\n",
    "        self.consuming = False  # 控制消费线程的运行\n",
    "        \n",
    "        self.start_consuming()\n",
    "        \n",
    "    def _ensure_connection(self):\n",
    "        \"\"\"确保 RabbitMQ 连接是开启的，如果没有则创建它。\"\"\"\n",
    "        if self.connection is None or self.connection.is_closed:\n",
    "            self._create_connection()\n",
    "        if self.channel is None or self.channel.is_closed:\n",
    "            self.channel = self.connection.channel()\n",
    "            self.channel.queue_declare(queue=self.receive_queue_name, durable=True)\n",
    "            self.channel.queue_declare(queue=self.send_queue_name, durable=True)\n",
    "\n",
    "    def _create_connection(self):\n",
    "        \"\"\"创建到 RabbitMQ 的连接。\"\"\"\n",
    "        credentials = pika.PlainCredentials(self.user_name, self.password)\n",
    "        parameters = pika.ConnectionParameters(self.host, 5672, self.vhost, credentials, heartbeat=0)\n",
    "        self.connection = pika.BlockingConnection(parameters)\n",
    "\n",
    "    def send(self, request):\n",
    "        \"\"\"发送消息到 'res' 队列，如果连接关闭则尝试重新连接。\"\"\"\n",
    "        try:\n",
    "            with self.lock:\n",
    "                self._ensure_connection()\n",
    "                message = json.dumps(dataclass_to_dict(request)).encode('utf-8')\n",
    "                self.channel.basic_publish(\n",
    "                    exchange='',\n",
    "                    routing_key=self.send_queue_name,\n",
    "                    body=message)\n",
    "        except pika.exceptions.ConnectionClosedByBroker:\n",
    "            print(\"Connection closed by broker, trying to reconnect...\")\n",
    "            self.connection = None  # 重置连接\n",
    "            self.send(request)  # 递归调用自身以重试\n",
    "        except pika.exceptions.AMQPChannelError as err:\n",
    "            print(f\"Channel error: {err}, stopping...\")\n",
    "        except pika.exceptions.AMQPConnectionError:\n",
    "            print(\"Connection was closed, trying to reopen...\")\n",
    "            self._create_connection()\n",
    "            self.send(request)\n",
    "\n",
    "    def start_consuming(self):\n",
    "        \"\"\"启动一个线程来接收 'req' 队列的消息。\"\"\"\n",
    "        def consume():\n",
    "            while self.consuming:\n",
    "                try:\n",
    "                    self._ensure_connection()\n",
    "                    self.channel.basic_consume(\n",
    "                        queue=self.receive_queue_name,\n",
    "                        on_message_callback=self.on_message_callback,\n",
    "                        auto_ack=True)\n",
    "                    self.channel.start_consuming()\n",
    "                except (pika.exceptions.AMQPConnectionError, pika.exceptions.ConnectionClosedByBroker) as e:\n",
    "                    print(f\"Connection error, attempting to reconnect: {e}\")\n",
    "                    self.channel = None  # 重置 channel\n",
    "                    self.connection = None  # 重置 connection\n",
    "                    time.sleep(5)  # 等待一段时间再次尝试重连\n",
    "\n",
    "        if self.on_message_callback:\n",
    "            self.consuming = True\n",
    "            thread = threading.Thread(target=consume)\n",
    "            thread.start()\n",
    "\n",
    "    def stop(self):\n",
    "        self.consuming = False  # 停止消费循环\n",
    "        if self.channel and self.channel.is_open:\n",
    "            self.channel.stop_consuming()\n",
    "        if self.connection and self.connection.is_open:\n",
    "            self.connection.close()\n",
    "        self.channel = None\n",
    "        self.connection = None\n"
   ]
  },
  {
   "cell_type": "code",
   "execution_count": 4,
   "metadata": {},
   "outputs": [
    {
     "name": "stderr",
     "output_type": "stream",
     "text": [
      "Exception in thread Thread-12 (consume):\n",
      "Traceback (most recent call last):\n",
      "  File \"c:\\Users\\pentcn\\.conda\\envs\\oquant\\Lib\\threading.py\", line 1052, in _bootstrap_inner\n",
      "    self.run()\n",
      "  File \"c:\\Users\\pentcn\\.conda\\envs\\oquant\\Lib\\site-packages\\ipykernel\\ipkernel.py\", line 761, in run_closure\n",
      "    _threading_Thread_run(self)\n",
      "  File \"c:\\Users\\pentcn\\.conda\\envs\\oquant\\Lib\\threading.py\", line 989, in run\n",
      "    self._target(*self._args, **self._kwargs)\n",
      "  File \"C:\\Users\\pentcn\\AppData\\Local\\Temp\\ipykernel_16884\\649918687.py\", line 70, in consume\n",
      "  File \"c:\\Users\\pentcn\\.conda\\envs\\oquant\\Lib\\site-packages\\pika\\adapters\\blocking_connection.py\", line 1883, in start_consuming\n",
      "    self._process_data_events(time_limit=None)\n",
      "  File \"c:\\Users\\pentcn\\.conda\\envs\\oquant\\Lib\\site-packages\\pika\\adapters\\blocking_connection.py\", line 2044, in _process_data_events\n",
      "    self.connection.process_data_events(time_limit=time_limit)\n",
      "  File \"c:\\Users\\pentcn\\.conda\\envs\\oquant\\Lib\\site-packages\\pika\\adapters\\blocking_connection.py\", line 851, in process_data_events\n",
      "    self._dispatch_channel_events()\n",
      "  File \"c:\\Users\\pentcn\\.conda\\envs\\oquant\\Lib\\site-packages\\pika\\adapters\\blocking_connection.py\", line 567, in _dispatch_channel_events\n",
      "    impl_channel._get_cookie()._dispatch_events()\n",
      "  File \"c:\\Users\\pentcn\\.conda\\envs\\oquant\\Lib\\site-packages\\pika\\adapters\\blocking_connection.py\", line 1510, in _dispatch_events\n",
      "    consumer_info.on_message_callback(self, evt.method,\n",
      "TypeError: on_message_callback() takes 1 positional argument but 4 were given\n"
     ]
    }
   ],
   "source": [
    "# 示例使用\n",
    "def on_message_callback(body):\n",
    "    print(\"Received:\", body)\n",
    "\n",
    "mq = MessageQueue('test', 'test', 'localhost', 'test', '1234', on_message_callback)\n",
    "\n",
    "\n",
    "\n"
   ]
  },
  {
   "cell_type": "code",
   "execution_count": 23,
   "metadata": {},
   "outputs": [],
   "source": [
    "# 停止线程和关闭连接（在适当的时候调用）\n",
    "mq.stop()"
   ]
  },
  {
   "cell_type": "code",
   "execution_count": 5,
   "metadata": {},
   "outputs": [],
   "source": [
    "# 发送示例消息\n",
    "mq.send('Hello, RabbitMQ!')"
   ]
  },
  {
   "cell_type": "code",
   "execution_count": 3,
   "metadata": {},
   "outputs": [],
   "source": [
    "import pika \n",
    "import datetime\n",
    "\n",
    "user_name = 'test'\n",
    "password = 'test'\n",
    "host = 'localhost'\n",
    "vhost = 'test'\n",
    "account_id = '1234'\n",
    "def send(message):       \n",
    "    \"\"\"创建到 RabbitMQ 的连接。\"\"\"\n",
    "    credentials = pika.PlainCredentials(user_name, password)\n",
    "    parameters = pika.ConnectionParameters(host, 5672, vhost, credentials, heartbeat=0)\n",
    "    connection = pika.BlockingConnection(parameters)\n",
    "    channel = connection.channel()\n",
    "    queue_name = f'req{account_id}'\n",
    "    channel.queue_declare(queue=queue_name, durable=True)    \n",
    "    channel.basic_publish(exchange='',\n",
    "                        routing_key=queue_name,\n",
    "                        body=message)\n",
    "    print(datetime.now().strftime('%Y-%m-%d %H:%M:%S.%f'))\n",
    "    print(\" [x] Sent '{}'\".format(message))\n",
    "    connection.close()"
   ]
  },
  {
   "cell_type": "code",
   "execution_count": 4,
   "metadata": {},
   "outputs": [
    {
     "ename": "AttributeError",
     "evalue": "module 'datetime' has no attribute 'now'",
     "output_type": "error",
     "traceback": [
      "\u001b[1;31m---------------------------------------------------------------------------\u001b[0m",
      "\u001b[1;31mAttributeError\u001b[0m                            Traceback (most recent call last)",
      "Cell \u001b[1;32mIn[4], line 1\u001b[0m\n\u001b[1;32m----> 1\u001b[0m \u001b[43msend\u001b[49m\u001b[43m(\u001b[49m\u001b[38;5;124;43m'\u001b[39;49m\u001b[38;5;124;43mabcd\u001b[39;49m\u001b[38;5;124;43m'\u001b[39;49m\u001b[43m)\u001b[49m\n",
      "Cell \u001b[1;32mIn[3], line 20\u001b[0m, in \u001b[0;36msend\u001b[1;34m(message)\u001b[0m\n\u001b[0;32m     16\u001b[0m channel\u001b[38;5;241m.\u001b[39mqueue_declare(queue\u001b[38;5;241m=\u001b[39mqueue_name, durable\u001b[38;5;241m=\u001b[39m\u001b[38;5;28;01mTrue\u001b[39;00m)    \n\u001b[0;32m     17\u001b[0m channel\u001b[38;5;241m.\u001b[39mbasic_publish(exchange\u001b[38;5;241m=\u001b[39m\u001b[38;5;124m'\u001b[39m\u001b[38;5;124m'\u001b[39m,\n\u001b[0;32m     18\u001b[0m                     routing_key\u001b[38;5;241m=\u001b[39mqueue_name,\n\u001b[0;32m     19\u001b[0m                     body\u001b[38;5;241m=\u001b[39mmessage)\n\u001b[1;32m---> 20\u001b[0m \u001b[38;5;28mprint\u001b[39m(\u001b[43mdatetime\u001b[49m\u001b[38;5;241;43m.\u001b[39;49m\u001b[43mnow\u001b[49m()\u001b[38;5;241m.\u001b[39mstrftime(\u001b[38;5;124m'\u001b[39m\u001b[38;5;124m%\u001b[39m\u001b[38;5;124mY-\u001b[39m\u001b[38;5;124m%\u001b[39m\u001b[38;5;124mm-\u001b[39m\u001b[38;5;132;01m%d\u001b[39;00m\u001b[38;5;124m \u001b[39m\u001b[38;5;124m%\u001b[39m\u001b[38;5;124mH:\u001b[39m\u001b[38;5;124m%\u001b[39m\u001b[38;5;124mM:\u001b[39m\u001b[38;5;124m%\u001b[39m\u001b[38;5;124mS.\u001b[39m\u001b[38;5;132;01m%f\u001b[39;00m\u001b[38;5;124m'\u001b[39m))\n\u001b[0;32m     21\u001b[0m \u001b[38;5;28mprint\u001b[39m(\u001b[38;5;124m\"\u001b[39m\u001b[38;5;124m [x] Sent \u001b[39m\u001b[38;5;124m'\u001b[39m\u001b[38;5;132;01m{}\u001b[39;00m\u001b[38;5;124m'\u001b[39m\u001b[38;5;124m\"\u001b[39m\u001b[38;5;241m.\u001b[39mformat(message))\n\u001b[0;32m     22\u001b[0m connection\u001b[38;5;241m.\u001b[39mclose()\n",
      "\u001b[1;31mAttributeError\u001b[0m: module 'datetime' has no attribute 'now'"
     ]
    }
   ],
   "source": [
    "send('abcd')"
   ]
  },
  {
   "cell_type": "code",
   "execution_count": null,
   "metadata": {},
   "outputs": [],
   "source": []
  }
 ],
 "metadata": {
  "kernelspec": {
   "display_name": "oquant",
   "language": "python",
   "name": "python3"
  },
  "language_info": {
   "codemirror_mode": {
    "name": "ipython",
    "version": 3
   },
   "file_extension": ".py",
   "mimetype": "text/x-python",
   "name": "python",
   "nbconvert_exporter": "python",
   "pygments_lexer": "ipython3",
   "version": "3.12.0"
  }
 },
 "nbformat": 4,
 "nbformat_minor": 2
}
