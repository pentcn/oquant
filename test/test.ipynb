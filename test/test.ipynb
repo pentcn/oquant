{
 "cells": [
  {
   "cell_type": "code",
   "execution_count": null,
   "metadata": {},
   "outputs": [],
   "source": [
    "for i in range(5, 7):\n",
    "    print(i)"
   ]
  },
  {
   "cell_type": "code",
   "execution_count": 8,
   "metadata": {},
   "outputs": [],
   "source": [
    "def sort_month(months):\n",
    "    if 3 in months and 12 in months:\n",
    "        _months = [m+12 for m in months if m <=6] + [m for m in months if m > 6]\n",
    "        _months = sorted(_months)\n",
    "        return [m for m in _months if m <= 12]+[m-12 for m in _months if m > 12]\n",
    "    else:\n",
    "        return sorted(months)"
   ]
  },
  {
   "cell_type": "code",
   "execution_count": 10,
   "metadata": {},
   "outputs": [
    {
     "name": "stdout",
     "output_type": "stream",
     "text": [
      "[1, 2, 3, 6]\n",
      "[2, 3, 6, 9]\n",
      "[3, 4, 6, 9]\n",
      "[4, 5, 6, 9]\n",
      "[5, 6, 9, 12]\n",
      "[6, 7, 9, 12]\n",
      "[7, 8, 9, 12]\n",
      "[8, 9, 12, 3]\n",
      "[9, 10, 12, 3]\n",
      "[10, 11, 12, 3]\n",
      "[11, 12, 3, 6]\n",
      "[12, 1, 3, 6]\n"
     ]
    }
   ],
   "source": [
    "a = [[1,2,3,6], [2,3,6,9], [3,4,6,9],[4,5,6,9],[5,6,9,12],[6,7,9,12],[7,8,9,12],[8,9,12,3],[9,10,12,3],[10,11,12,3],[11,12,3,6], [12, 1, 3, 6]]\n",
    "for i in a:\n",
    "    print(sort_month(i))"
   ]
  },
  {
   "cell_type": "code",
   "execution_count": null,
   "metadata": {},
   "outputs": [],
   "source": []
  }
 ],
 "metadata": {
  "kernelspec": {
   "display_name": "oquant",
   "language": "python",
   "name": "python3"
  },
  "language_info": {
   "codemirror_mode": {
    "name": "ipython",
    "version": 3
   },
   "file_extension": ".py",
   "mimetype": "text/x-python",
   "name": "python",
   "nbconvert_exporter": "python",
   "pygments_lexer": "ipython3",
   "version": "3.12.0"
  }
 },
 "nbformat": 4,
 "nbformat_minor": 2
}
