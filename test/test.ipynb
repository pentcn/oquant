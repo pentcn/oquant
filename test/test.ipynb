{
 "cells": [
  {
   "cell_type": "code",
   "execution_count": 1,
   "metadata": {},
   "outputs": [],
   "source": [
    "import sys\n",
    "sys.path.append('..')"
   ]
  },
  {
   "cell_type": "code",
   "execution_count": 2,
   "metadata": {},
   "outputs": [],
   "source": [
    "import pika\n",
    "import json\n",
    "import threading\n",
    "import time\n",
    "from datetime import datetime\n",
    "from common.utilities import dataclass_to_dict\n",
    "\n",
    "class MessageQueue:\n",
    "    def __init__(self, user_name, password, host, vhost, queue_name, on_message_callback=None):\n",
    "        self.user_name = user_name\n",
    "        self.password = password\n",
    "        self.host = host\n",
    "        self.vhost = vhost\n",
    "        self.receive_queue_name = f'req{queue_name}'\n",
    "        self.send_queue_name = f'res{queue_name}'\n",
    "        self.on_message_callback = on_message_callback\n",
    "        self.connection = None\n",
    "        self.channel = None\n",
    "        self.lock = threading.Lock()\n",
    "        self.consuming = False  # 控制消费线程的运行\n",
    "        \n",
    "        self.start_consuming()\n",
    "        \n",
    "    def _ensure_connection(self):\n",
    "        \"\"\"确保 RabbitMQ 连接是开启的，如果没有则创建它。\"\"\"\n",
    "        if self.connection is None or self.connection.is_closed:\n",
    "            self._create_connection()\n",
    "        if self.channel is None or self.channel.is_closed:\n",
    "            self.channel = self.connection.channel()\n",
    "            self.channel.queue_declare(queue=self.receive_queue_name, durable=True)\n",
    "            self.channel.queue_declare(queue=self.send_queue_name, durable=True)\n",
    "\n",
    "    def _create_connection(self):\n",
    "        \"\"\"创建到 RabbitMQ 的连接。\"\"\"\n",
    "        credentials = pika.PlainCredentials(self.user_name, self.password)\n",
    "        parameters = pika.ConnectionParameters(self.host, 5672, self.vhost, credentials, heartbeat=0)\n",
    "        self.connection = pika.BlockingConnection(parameters)\n",
    "\n",
    "    def send(self, request):\n",
    "        \"\"\"发送消息到 'res' 队列，如果连接关闭则尝试重新连接。\"\"\"\n",
    "        try:\n",
    "            with self.lock:\n",
    "                self._ensure_connection()\n",
    "                message = json.dumps(dataclass_to_dict(request)).encode('utf-8')\n",
    "                self.channel.basic_publish(\n",
    "                    exchange='',\n",
    "                    routing_key=self.send_queue_name,\n",
    "                    body=message)\n",
    "        except pika.exceptions.ConnectionClosedByBroker:\n",
    "            print(\"Connection closed by broker, trying to reconnect...\")\n",
    "            self.connection = None  # 重置连接\n",
    "            self.send(request)  # 递归调用自身以重试\n",
    "        except pika.exceptions.AMQPChannelError as err:\n",
    "            print(f\"Channel error: {err}, stopping...\")\n",
    "        except pika.exceptions.AMQPConnectionError:\n",
    "            print(\"Connection was closed, trying to reopen...\")\n",
    "            self._create_connection()\n",
    "            self.send(request)\n",
    "\n",
    "    def start_consuming(self):\n",
    "        \"\"\"启动一个线程来接收 'req' 队列的消息。\"\"\"\n",
    "        def consume():\n",
    "            while self.consuming:\n",
    "                try:\n",
    "                    self._ensure_connection()\n",
    "                    self.channel.basic_consume(\n",
    "                        queue=self.receive_queue_name,\n",
    "                        on_message_callback=self.on_message_callback,\n",
    "                        auto_ack=True)\n",
    "                    self.channel.start_consuming()\n",
    "                except (pika.exceptions.AMQPConnectionError, pika.exceptions.ConnectionClosedByBroker) as e:\n",
    "                    print(f\"Connection error, attempting to reconnect: {e}\")\n",
    "                    self.channel = None  # 重置 channel\n",
    "                    self.connection = None  # 重置 connection\n",
    "                    time.sleep(5)  # 等待一段时间再次尝试重连\n",
    "\n",
    "        if self.on_message_callback:\n",
    "            self.consuming = True\n",
    "            thread = threading.Thread(target=consume)\n",
    "            thread.start()\n",
    "\n",
    "    def stop(self):\n",
    "        self.consuming = False  # 停止消费循环\n",
    "        if self.channel and self.channel.is_open:\n",
    "            self.channel.stop_consuming()\n",
    "        if self.connection and self.connection.is_open:\n",
    "            self.connection.close()\n",
    "        self.channel = None\n",
    "        self.connection = None\n"
   ]
  },
  {
   "cell_type": "code",
   "execution_count": 7,
   "metadata": {},
   "outputs": [],
   "source": [
    "# 示例使用\n",
    "def on_message_callback(body):\n",
    "    print(\"Received:\", body)\n",
    "\n",
    "mq = MessageQueue('test', 'test', 'localhost', 'test', '1234', on_message_callback)\n",
    "\n",
    "\n",
    "\n"
   ]
  },
  {
   "cell_type": "code",
   "execution_count": 23,
   "metadata": {},
   "outputs": [],
   "source": [
    "# 停止线程和关闭连接（在适当的时候调用）\n",
    "mq.stop()"
   ]
  },
  {
   "cell_type": "code",
   "execution_count": 5,
   "metadata": {},
   "outputs": [],
   "source": [
    "# 发送示例消息\n",
    "mq.send('Hello, RabbitMQ!')"
   ]
  },
  {
   "cell_type": "code",
   "execution_count": null,
   "metadata": {},
   "outputs": [],
   "source": []
  },
  {
   "cell_type": "code",
   "execution_count": null,
   "metadata": {},
   "outputs": [],
   "source": []
  }
 ],
 "metadata": {
  "kernelspec": {
   "display_name": "oquant",
   "language": "python",
   "name": "python3"
  },
  "language_info": {
   "codemirror_mode": {
    "name": "ipython",
    "version": 3
   },
   "file_extension": ".py",
   "mimetype": "text/x-python",
   "name": "python",
   "nbconvert_exporter": "python",
   "pygments_lexer": "ipython3",
   "version": "3.12.0"
  }
 },
 "nbformat": 4,
 "nbformat_minor": 2
}
