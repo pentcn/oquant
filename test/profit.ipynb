{
 "cells": [
  {
   "cell_type": "code",
   "execution_count": 1,
   "metadata": {},
   "outputs": [],
   "source": [
    "import pandas as pd\n",
    "import json\n",
    "from time import sleep\n",
    "from pymongo import MongoClient, errors\n",
    "\n",
    "from icecream import ic"
   ]
  },
  {
   "cell_type": "code",
   "execution_count": 2,
   "metadata": {},
   "outputs": [],
   "source": [
    "host = 'localhost'\n",
    "port = 27017\n",
    "db_name = 'oquant_runtime'\n",
    "coll_name = '1234:group_prices'\n",
    "strategy_id = '1'\n",
    "\n",
    "client = MongoClient(host, port, serverSelectionTimeoutMS=5000)\n",
    "db = client[db_name]\n",
    "coll = db[coll_name]\n",
    "\n",
    "all_groups = coll.find({'strategy_id': strategy_id})\n",
    "\n"
   ]
  },
  {
   "cell_type": "code",
   "execution_count": 3,
   "metadata": {},
   "outputs": [],
   "source": [
    "def to_straddle_group(prices):\n",
    "    def get_key_from_straddle_prices(price_data):\n",
    "        if len(price_data) == 3:\n",
    "            symbols = list(price_data.keys())\n",
    "            (head, tail) = (symbols[1], symbols[2]) if symbols[1] > symbols[2] else (symbols[2], symbols[1])\n",
    "            return f'{head}-{tail}' \n",
    "        return None\n",
    "        \n",
    "    def split(prices):\n",
    "        all_data = {}    \n",
    "        for dt, data in prices.items():\n",
    "            if len(data) == 3:\n",
    "                key = (get_key_from_straddle_prices(data))\n",
    "                new_data = {'datetime': dt}\n",
    "                new_data.update(data)\n",
    "                if key in all_data:\n",
    "                    all_data[key].append(new_data)\n",
    "                else:\n",
    "                    all_data[key] = [new_data]\n",
    "        return all_data\n",
    "    \n",
    "    def to_df(all_data):\n",
    "        all_df = {}\n",
    "        for code, data in all_data.items():\n",
    "            df = pd.DataFrame(data)\n",
    "            df.set_index('datetime', inplace=True)\n",
    "            all_df[code] = df\n",
    "        return all_df\n",
    "    \n",
    "    all_data = split(prices)\n",
    "    all_df = to_df(all_data)\n",
    "    return all_df"
   ]
  },
  {
   "cell_type": "code",
   "execution_count": 4,
   "metadata": {},
   "outputs": [],
   "source": [
    "for group in all_groups:\n",
    "    prices = group['prices']\n",
    "    prices = json.loads(prices)\n",
    "    straddle_group = to_straddle_group(prices)\n",
    "    \n",
    "    break"
   ]
  },
  {
   "cell_type": "code",
   "execution_count": 5,
   "metadata": {},
   "outputs": [],
   "source": [
    "profits = []\n",
    "for code, df in straddle_group.items():\n",
    "    symbols = code.split('-')\n",
    "    df['total'] = df[symbols[0]] + df[symbols[1]]\n",
    "    df['total'] = df['total'].bfill()\n",
    "    \n",
    "    profit = 10000 * (df['total'].iloc[0] - df['total'].iloc[-1])\n",
    "    profit = round(10000 * (df['total'].iloc[0] - df['total'].iloc[-1]), 2)\n",
    "    profits.append(profit)"
   ]
  },
  {
   "cell_type": "code",
   "execution_count": null,
   "metadata": {},
   "outputs": [],
   "source": [
    "straddle_group"
   ]
  },
  {
   "cell_type": "code",
   "execution_count": 7,
   "metadata": {},
   "outputs": [
    {
     "data": {
      "text/plain": [
       "[-126.0, -373.0, -2470.0, 655.0, 351.0]"
      ]
     },
     "execution_count": 7,
     "metadata": {},
     "output_type": "execute_result"
    }
   ],
   "source": [
    "profits"
   ]
  },
  {
   "cell_type": "code",
   "execution_count": 8,
   "metadata": {},
   "outputs": [
    {
     "data": {
      "text/plain": [
       "-1963.0"
      ]
     },
     "execution_count": 8,
     "metadata": {},
     "output_type": "execute_result"
    }
   ],
   "source": [
    "sum(profits)"
   ]
  },
  {
   "cell_type": "code",
   "execution_count": 13,
   "metadata": {},
   "outputs": [
    {
     "name": "stderr",
     "output_type": "stream",
     "text": [
      "ic| dt: '2020-06-24 14:00:00'\n",
      "    p: {'10002535.SH': 0.0315, '10002538.SH': 0.0096, '510050.SH': 2.951}\n",
      "ic| dt: '2020-06-24 14:01:00'\n",
      "    p: {'10002535.SH': 0.0316, '10002538.SH': 0.0096, '510050.SH': 2.953}\n",
      "ic| dt: '2020-06-24 14:02:00'\n",
      "    p: {'10002535.SH': 0.0314, '10002538.SH': 0.0095, '510050.SH': 2.952}\n",
      "ic| dt: '2020-06-24 14:03:00'\n",
      "    p: {'10002535.SH': 0.0314, '10002538.SH': 0.0097, '510050.SH': 2.95}\n",
      "ic| dt: '2020-06-24 14:04:00'\n",
      "    p: {'10002535.SH': 0.0312, '10002538.SH': 0.0097, '510050.SH': 2.95}\n",
      "ic| dt: '2020-06-24 14:05:00'\n",
      "    p: {'10002535.SH': 0.0313, '10002538.SH': nan, '510050.SH': 2.95}\n",
      "ic| dt: '2020-06-24 14:06:00'\n",
      "    p: {'10002535.SH': 0.0314, '10002538.SH': 0.0096, '510050.SH': 2.951}\n",
      "ic| dt: '2020-06-24 14:07:00'\n",
      "    p: {'10002535.SH': 0.0315, '10002538.SH': 0.0095, '510050.SH': 2.951}\n",
      "ic| dt: '2020-06-24 14:08:00'\n",
      "    p: {'10002535.SH': 0.0315, '10002538.SH': nan, '510050.SH': 2.95}\n",
      "ic| dt: '2020-06-24 14:09:00'\n",
      "    p: {'10002535.SH': 0.0317, '10002538.SH': 0.0095, '510050.SH': 2.95}\n",
      "ic| dt: '2020-06-24 14:10:00'\n",
      "    p: {'10002535.SH': 0.0322, '10002538.SH': 0.0094, '510050.SH': 2.952}\n",
      "ic| dt: '2020-06-24 14:11:00'\n",
      "    p: {'10002535.SH': 0.0328, '10002538.SH': 0.0094, '510050.SH': 2.953}\n",
      "ic| dt: '2020-06-24 14:12:00'\n",
      "    p: {'10002535.SH': 0.0326, '10002538.SH': 0.0093, '510050.SH': 2.953}\n",
      "ic| dt: '2020-06-24 14:13:00'\n",
      "    p: {'10002535.SH': 0.0325, '10002538.SH': 0.0093, '510050.SH': 2.953}\n",
      "ic| dt: '2020-06-24 14:14:00'\n",
      "    p: {'10002535.SH': 0.033, '10002538.SH': 0.0093, '510050.SH': 2.953}\n",
      "ic| dt: '2020-06-24 14:15:00'\n",
      "    p: {'10002535.SH': 0.0323, '10002538.SH': 0.0093, '510050.SH': 2.953}\n",
      "ic| dt: '2020-06-24 14:16:00'\n",
      "    p: {'10002535.SH': 0.0318, '10002538.SH': 0.0093, '510050.SH': 2.952}\n",
      "ic| dt: '2020-06-24 14:17:00'\n",
      "    p: {'10002535.SH': 0.0318, '10002538.SH': 0.0093, '510050.SH': 2.951}\n",
      "ic| dt: '2020-06-24 14:18:00'\n",
      "    p: {'10002535.SH': 0.0316, '10002538.SH': 0.0093, '510050.SH': 2.952}\n",
      "ic| dt: '2020-06-24 14:19:00'\n",
      "    p: {'10002535.SH': 0.0314, '10002538.SH': 0.0094, '510050.SH': 2.95}\n",
      "ic| dt: '2020-06-24 14:20:00'\n",
      "    p: {'10002535.SH': 0.0313, '10002538.SH': 0.0093, '510050.SH': 2.951}\n",
      "ic| dt: '2020-06-24 14:21:00'\n",
      "    p: {'10002535.SH': 0.031, '10002538.SH': 0.0093, '510050.SH': 2.952}\n",
      "ic| dt: '2020-06-24 14:22:00'\n",
      "    p: {'10002535.SH': 0.0313, '10002538.SH': 0.0092, '510050.SH': 2.952}\n",
      "ic| dt: '2020-06-24 14:23:00'\n",
      "    p: {'10002535.SH': 0.0311, '10002538.SH': 0.0092, '510050.SH': 2.952}\n",
      "ic| dt: '2020-06-24 14:24:00'\n",
      "    p: {'10002535.SH': 0.0309, '10002538.SH': 0.0094, '510050.SH': 2.95}\n",
      "ic| dt: '2020-06-24 14:25:00'\n",
      "    p: {'10002535.SH': 0.0314, '10002538.SH': 0.0092, '510050.SH': 2.952}\n",
      "ic| dt: '2020-06-24 14:26:00'\n",
      "    p: {'10002535.SH': 0.0313, '10002538.SH': 0.0092, '510050.SH': 2.952}\n",
      "ic| dt: '2020-06-24 14:27:00'\n",
      "    p: {'10002535.SH': 0.0315, '10002538.SH': 0.0091, '510050.SH': 2.953}\n",
      "ic| dt: '2020-06-24 14:28:00'\n",
      "    p: {'10002535.SH': 0.0313, '10002538.SH': 0.0091, '510050.SH': 2.953}\n",
      "ic| dt: '2020-06-24 14:29:00'\n",
      "    p: {'10002535.SH': 0.0318, '10002538.SH': 0.0092, '510050.SH': 2.954}\n",
      "ic| dt: '2020-06-24 14:30:00'\n",
      "    p: {'10002535.SH': 0.0314, '10002538.SH': 0.0093, '510050.SH': 2.953}\n",
      "ic| dt: '2020-06-24 14:31:00'\n",
      "    p: {'10002535.SH': 0.0311, '10002538.SH': 0.0091, '510050.SH': 2.953}\n",
      "ic| dt: '2020-06-24 14:32:00'\n",
      "    p: {'10002535.SH': 0.031, '10002538.SH': 0.0091, '510050.SH': 2.953}\n",
      "ic| dt: '2020-06-24 14:33:00'\n",
      "    p: {'10002535.SH': 0.0311, '10002538.SH': 0.0092, '510050.SH': 2.952}\n",
      "ic| dt: '2020-06-24 14:34:00'\n",
      "    p: {'10002535.SH': 0.0313, '10002538.SH': 0.009, '510050.SH': 2.953}\n",
      "ic| dt: '2020-06-24 14:35:00'\n",
      "    p: {'10002535.SH': 0.0316, '10002538.SH': 0.009, '510050.SH': 2.954}\n",
      "ic| dt: '2020-06-24 14:36:00'\n",
      "    p: {'10002535.SH': 0.0316, '10002538.SH': 0.009, '510050.SH': 2.954}\n",
      "ic| dt: '2020-06-24 14:37:00'\n",
      "    p: {'10002535.SH': 0.0318, '10002538.SH': 0.009, '510050.SH': 2.954}\n",
      "ic| dt: '2020-06-24 14:38:00'\n",
      "    p: {'10002535.SH': 0.0318, '10002538.SH': 0.0091, '510050.SH': 2.955}\n",
      "ic| dt: '2020-06-24 14:39:00'\n",
      "    p: {'10002535.SH': 0.0318, '10002538.SH': 0.009, '510050.SH': 2.956}\n",
      "ic| dt: '2020-06-24 14:40:00'\n",
      "    p: {'10002535.SH': 0.0318, '10002538.SH': 0.009, '510050.SH': 2.955}\n",
      "ic| dt: '2020-06-24 14:41:00'\n",
      "    p: {'10002535.SH': 0.0321, '10002538.SH': 0.0086, '510050.SH': 2.956}\n",
      "ic| dt: '2020-06-24 14:42:00'\n",
      "    p: {'10002535.SH': 0.031, '10002538.SH': 0.0085, '510050.SH': 2.956}\n",
      "ic| dt: '2020-06-24 14:43:00'\n",
      "    p: {'10002535.SH': 0.0311, '10002538.SH': 0.0085, '510050.SH': 2.956}\n",
      "ic| dt: '2020-06-24 14:44:00'\n",
      "    p: {'10002535.SH': 0.0317, '10002538.SH': 0.0086, '510050.SH': 2.958}\n",
      "ic| dt: '2020-06-24 14:45:00'\n",
      "    p: {'10002535.SH': 0.032, '10002538.SH': 0.0086, '510050.SH': 2.958}\n",
      "ic| dt: '2020-06-24 14:46:00'\n",
      "    p: {'10002535.SH': 0.0322, '10002538.SH': 0.0084, '510050.SH': 2.959}\n",
      "ic| dt: '2020-06-24 14:47:00'\n",
      "    p: {'10002535.SH': 0.032, '10002538.SH': 0.0084, '510050.SH': 2.959}\n",
      "ic| dt: '2020-06-24 14:48:00'\n",
      "    p: {'10002535.SH': 0.032, '10002538.SH': 0.0085, '510050.SH': 2.958}\n",
      "ic| dt: '2020-06-24 14:49:00'\n",
      "    p: {'10002535.SH': 0.0324, '10002538.SH': 0.0083, '510050.SH': 2.959}\n",
      "ic| dt: '2020-06-24 14:50:00'\n",
      "    p: {'10002535.SH': 0.0327,\n",
      "        '10002538.SH': 0.0085,\n",
      "        '10002540.SH': 0.0172,\n",
      "        '10002565.SH': 0.0106,\n",
      "        '510050.SH': 2.96}\n",
      "ic| dt: '2020-06-24 14:51:00'\n",
      "    p: {'10002540.SH': 0.0176, '10002565.SH': 0.0106, '510050.SH': 2.959}\n",
      "ic| dt: '2020-06-24 14:52:00'\n",
      "    p: {'10002540.SH': 0.0177, '10002565.SH': 0.0107, '510050.SH': 2.96}\n",
      "ic| dt: '2020-06-24 14:53:00'\n",
      "    p: {'10002540.SH': 0.0178, '10002565.SH': 0.0105, '510050.SH': 2.959}\n",
      "ic| dt: '2020-06-24 14:54:00'\n",
      "    p: {'10002540.SH': 0.0175, '10002565.SH': 0.0105, '510050.SH': 2.96}\n",
      "ic| dt: '2020-06-24 14:55:00'\n",
      "    p: {'10002540.SH': 0.0179, '10002565.SH': 0.0107, '510050.SH': 2.96}\n",
      "ic| dt: '2020-06-24 14:56:00'\n",
      "    p: {'10002540.SH': 0.0179, '10002565.SH': 0.0104, '510050.SH': 2.958}\n",
      "ic| dt: '2020-06-24 14:57:00'\n",
      "    p: {'10002540.SH': nan, '10002565.SH': nan, '510050.SH': 2.958}\n",
      "ic| dt: '2020-06-24 14:58:00'\n",
      "    p: {'10002540.SH': nan, '10002565.SH': nan, '510050.SH': 2.958}\n",
      "ic| dt: '2020-06-24 14:59:00'\n",
      "    p: {'10002540.SH': nan, '10002565.SH': nan, '510050.SH': 2.96}\n"
     ]
    }
   ],
   "source": [
    "for dt, p in prices.items():\n",
    "    # ic(dt)\n",
    "    # break\n",
    "    if dt.startswith('2020-06-24 14'):\n",
    "        ic(dt, p)"
   ]
  },
  {
   "cell_type": "code",
   "execution_count": null,
   "metadata": {},
   "outputs": [],
   "source": []
  },
  {
   "cell_type": "code",
   "execution_count": null,
   "metadata": {},
   "outputs": [],
   "source": []
  }
 ],
 "metadata": {
  "kernelspec": {
   "display_name": "oquant",
   "language": "python",
   "name": "python3"
  },
  "language_info": {
   "codemirror_mode": {
    "name": "ipython",
    "version": 3
   },
   "file_extension": ".py",
   "mimetype": "text/x-python",
   "name": "python",
   "nbconvert_exporter": "python",
   "pygments_lexer": "ipython3",
   "version": "3.12.0"
  }
 },
 "nbformat": 4,
 "nbformat_minor": 2
}
