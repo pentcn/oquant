{
 "cells": [
  {
   "cell_type": "code",
   "execution_count": 1,
   "metadata": {},
   "outputs": [],
   "source": [
    "import json\n",
    "from time import sleep\n",
    "from datetime import datetime\n",
    "from pymongo import MongoClient, errors"
   ]
  },
  {
   "cell_type": "code",
   "execution_count": 5,
   "metadata": {},
   "outputs": [],
   "source": [
    "class MongoDBManager:\n",
    "\n",
    "    def __init__(self, db_name, host='localhost', port=27017, retry_delay=1, max_retries=3):\n",
    "        \"\"\"实际的初始化方法\"\"\"\n",
    "        self.host = host\n",
    "        self.port = port\n",
    "        self.db_name = db_name\n",
    "        self.retry_delay = retry_delay\n",
    "        self.max_retries = max_retries\n",
    "        self.client = None\n",
    "        self.db = None\n",
    "        self._connect()\n",
    "\n",
    "    def _connect(self):\n",
    "        \"\"\"建立 MongoDB 连接\"\"\"\n",
    "        try:\n",
    "            self.client = MongoClient(self.host, self.port, serverSelectionTimeoutMS=5000)\n",
    "            self.db = self.client[self.db_name]\n",
    "            self.client.admin.command('ismaster')\n",
    "        except errors.ServerSelectionTimeoutError:\n",
    "            print(\"Failed to connect to server.\")\n",
    "\n",
    "    def _reconnect(self):\n",
    "        \"\"\"尝试重新连接\"\"\"\n",
    "        for attempt in range(self.max_retries):\n",
    "            sleep(self.retry_delay)\n",
    "            try:\n",
    "                self._connect()\n",
    "                print(\"Reconnected to MongoDB server.\")\n",
    "                return\n",
    "            except errors.ServerSelectionTimeoutError:\n",
    "                print(f\"Reconnect attempt {attempt + 1} failed.\")\n",
    "        raise Exception(\"Could not reconnect to MongoDB server.\")\n",
    "\n",
    "    def _auto_reconnect(func):\n",
    "        \"\"\"装饰器: 自动处理重连逻辑\"\"\"\n",
    "        def wrapper(self, collection_name, *args, **kwargs):\n",
    "            try:\n",
    "                return func(self, collection_name, *args, **kwargs)\n",
    "            except (errors.AutoReconnect, errors.ServerSelectionTimeoutError):\n",
    "                print(\"Lost connection to MongoDB server. Attempting to reconnect...\")\n",
    "                self._reconnect()\n",
    "                return func(self, collection_name, *args, **kwargs)\n",
    "        return wrapper\n",
    "\n",
    "    @_auto_reconnect\n",
    "    def insert_data(self, collection_name, data):\n",
    "        \"\"\"插入数据到指定的集合\"\"\"\n",
    "        collection = self.db[collection_name]\n",
    "        return collection.insert_one(data).inserted_id if isinstance(data, dict) else collection.insert_many(data).inserted_ids\n",
    "\n",
    "    @_auto_reconnect\n",
    "    def find_data(self, collection_name, query={}):\n",
    "        \"\"\"从指定的集合查询数据\"\"\"\n",
    "        collection = self.db[collection_name]\n",
    "        return list(collection.find(query))\n",
    "\n",
    "    @_auto_reconnect\n",
    "    def update_data(self, collection_name, query, update_values):\n",
    "        \"\"\"更新指定集合中符合条件的数据\"\"\"\n",
    "        collection = self.db[collection_name]\n",
    "        return collection.update_many(query, {'$set': update_values})\n",
    "\n",
    "    @_auto_reconnect\n",
    "    def delete_data(self, collection_name, query):\n",
    "        \"\"\"从指定集合删除符合条件的数据\"\"\"\n",
    "        collection = self.db[collection_name]\n",
    "        return collection.delete_many(query)\n",
    "\n",
    "    def close_connection(self):\n",
    "        \"\"\"关闭 MongoDB 连接\"\"\"\n",
    "        if self.client:\n",
    "            self.client.close()\n"
   ]
  },
  {
   "cell_type": "code",
   "execution_count": 6,
   "metadata": {},
   "outputs": [],
   "source": [
    "class StrategyVars(MongoDBManager):\n",
    "    \n",
    "    def __init__(self,strategy_id, db_name='oquant_runtime', host='127.0.0.1'):\n",
    "        super().__init__(db_name, host)\n",
    "        self.strategy_id = strategy_id\n",
    "        self.collection_name = 'vars'\n",
    "    \n",
    "    def __setitem__(self, key, json_object):\n",
    "        self.insert_data(self.collection_name, {\n",
    "            'uuid': key,\n",
    "            'type': 'local_mq_info',\n",
    "            'date': datetime.now().strftime('%Y-%m-%d'),\n",
    "            'time': datetime.now().strftime('%H:%M:%S'),\n",
    "            'body': json.dumps(json_object)       \n",
    "        })"
   ]
  },
  {
   "cell_type": "code",
   "execution_count": 7,
   "metadata": {},
   "outputs": [],
   "source": [
    "svars = StrategyVars(1)"
   ]
  },
  {
   "cell_type": "code",
   "execution_count": 8,
   "metadata": {},
   "outputs": [],
   "source": [
    "svars['uuid-1234-sdfa'] = {'test':'1234'}"
   ]
  },
  {
   "cell_type": "code",
   "execution_count": 9,
   "metadata": {},
   "outputs": [
    {
     "name": "stdout",
     "output_type": "stream",
     "text": [
      "value\n",
      "value\n"
     ]
    }
   ],
   "source": [
    "class NestedDictLike:\n",
    "    def __init__(self):\n",
    "        self.data = {}\n",
    "\n",
    "    def __getitem__(self, key):\n",
    "        # 确保返回的是支持下标操作的对象\n",
    "        if key not in self.data:\n",
    "            self.data[key] = {}\n",
    "        return self.data[key]\n",
    "\n",
    "    def __setitem__(self, key, value):\n",
    "        self.data[key] = value\n",
    "\n",
    "    def __delitem__(self, key):\n",
    "        del self.data[key]\n",
    "\n",
    "# 使用示例\n",
    "nd = NestedDictLike()\n",
    "nd['key1'] = {}\n",
    "nd['key1']['key2'] = 'value'\n",
    "print(nd['key1']['key2'])  # 输出: value\n",
    "\n",
    "# 直接在空的实例上操作\n",
    "nd = NestedDictLike()\n",
    "nd['key1']['key2'] = 'value'\n",
    "print(nd['key1']['key2'])  # 输出: value"
   ]
  },
  {
   "cell_type": "code",
   "execution_count": 9,
   "metadata": {},
   "outputs": [
    {
     "data": {
      "text/plain": [
       "[0]"
      ]
     },
     "execution_count": 9,
     "metadata": {},
     "output_type": "execute_result"
    }
   ],
   "source": [
    "a = ['1','2']\n",
    "[i for i, v in enumerate(a) if v=='1']"
   ]
  },
  {
   "cell_type": "code",
   "execution_count": null,
   "metadata": {},
   "outputs": [],
   "source": []
  }
 ],
 "metadata": {
  "kernelspec": {
   "display_name": "oquant",
   "language": "python",
   "name": "python3"
  },
  "language_info": {
   "codemirror_mode": {
    "name": "ipython",
    "version": 3
   },
   "file_extension": ".py",
   "mimetype": "text/x-python",
   "name": "python",
   "nbconvert_exporter": "python",
   "pygments_lexer": "ipython3",
   "version": "3.12.0"
  }
 },
 "nbformat": 4,
 "nbformat_minor": 2
}
