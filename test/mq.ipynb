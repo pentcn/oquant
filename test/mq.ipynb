{
 "cells": [
  {
   "cell_type": "code",
   "execution_count": 2,
   "metadata": {},
   "outputs": [],
   "source": [
    "import sys\n",
    "sys.path.append('..')"
   ]
  },
  {
   "cell_type": "code",
   "execution_count": 3,
   "metadata": {},
   "outputs": [],
   "source": [
    "from concurrent.futures import ThreadPoolExecutor\n",
    "from strategy_center.center.mq import MessageQueueSender\n",
    "from common.constant import (\n",
    "    Request,\n",
    "    Direction,\n",
    "    Offset\n",
    ")"
   ]
  },
  {
   "cell_type": "code",
   "execution_count": null,
   "metadata": {},
   "outputs": [],
   "source": [
    "# class MessageQueueSender:\n",
    "\n",
    "#     def __init__(self, user_name, password, host, vhost, account_id):\n",
    "#         self.user_name = user_name\n",
    "#         self.password = password\n",
    "#         self.host = host\n",
    "#         self.vhost = vhost\n",
    "#         self.account_id = account_id\n",
    "#         self.connection = None\n",
    "#         self.channel = None\n",
    "#         self.ensure_connection()\n",
    "\n",
    "#     def ensure_connection(self):\n",
    "#         \"\"\"确保 RabbitMQ 连接是开启的，如果没有则创建它。\"\"\"\n",
    "#         if not self.connection or self.connection.is_closed:\n",
    "#             self.create_connection()\n",
    "#         if not self.channel or self.channel.is_closed:\n",
    "#             self.channel = self.connection.channel()\n",
    "#             queue_name = f'req{self.account_id}'\n",
    "#             self.channel.queue_declare(queue=queue_name, durable=True)\n",
    "\n",
    "#     def create_connection(self):\n",
    "#         \"\"\"创建到 RabbitMQ 的连接。\"\"\"\n",
    "#         credentials = pika.PlainCredentials(self.user_name, self.password)\n",
    "#         parameters = pika.ConnectionParameters(self.host, 5672, self.vhost, credentials)\n",
    "#         self.connection = pika.BlockingConnection(parameters)\n",
    "\n",
    "#     def send(self, request):\n",
    "#         \"\"\"发送消息，如果连接关闭则尝试重新连接。\"\"\"\n",
    "#         try:\n",
    "#             self.ensure_connection()\n",
    "#             queue_name = f'req{self.account_id}'\n",
    "#             message = json.dumps(dataclass_to_dict(request)).encode('utf-8')\n",
    "\n",
    "#             self.channel.basic_publish(exchange='',\n",
    "#                                        routing_key=queue_name,\n",
    "#                                        body=message)\n",
    "#             print(datetime.now().strftime('%Y-%m-%d %H:%M:%S.%f'))\n",
    "#             print(f\" [x] Sent '{message}'\")\n",
    "#         except pika.exceptions.ConnectionClosedByBroker:\n",
    "#             print(\"Connection closed by broker, trying to reconnect...\")\n",
    "#             self.connection = None  # 重置连接\n",
    "#             self.send(request)  # 递归调用自身以重试\n",
    "#         except pika.exceptions.AMQPChannelError as err:\n",
    "#             print(f\"Channel error: {err}, stopping...\")\n",
    "#         except pika.exceptions.AMQPConnectionError:\n",
    "#             print(\"Connection was closed, trying to reopen...\")\n",
    "#             self.create_connection()\n",
    "#             self.send(request)\n",
    "\n",
    "#     def close(self):\n",
    "#         \"\"\"关闭 RabbitMQ 的连接。\"\"\"\n",
    "#         if self.connection and self.connection.is_open:\n",
    "#             self.connection.close()"
   ]
  },
  {
   "cell_type": "code",
   "execution_count": 4,
   "metadata": {},
   "outputs": [],
   "source": [
    "class Trader:\n",
    "    def __init__(self, user_name, password, host, vhost, account_id):\n",
    "        self.user_name = user_name\n",
    "        self.password = password\n",
    "        self.host = host\n",
    "        self.vhost = vhost\n",
    "        self.account_id = account_id\n",
    "    \n",
    "    def run(self):\n",
    "        if not hasattr(self, 'sender'):            \n",
    "            self.sender = MessageQueueSender(self.user_name, self.password, self.host, self.vhost, self.account_id)\n",
    "        req = Request(direction=Direction.SHORT, offset=Offset.OPEN, exchange='SHO', code='10006511', amount=30)\n",
    "        self.sender.send(req)"
   ]
  },
  {
   "cell_type": "code",
   "execution_count": 8,
   "metadata": {},
   "outputs": [],
   "source": [
    "# traders = [Trader('test', 'test', 'localhost', 'test', '1234') for _ in range(4)]\n",
    "traders = [Trader('', '', 'localhost', '', '840092285') for _ in range(4)]\n",
    "\n",
    "# 使用线程池并行运行\n",
    "with ThreadPoolExecutor(max_workers=8) as executor:\n",
    "    for trader in traders:\n",
    "        executor.submit(trader.run)"
   ]
  },
  {
   "cell_type": "code",
   "execution_count": 7,
   "metadata": {},
   "outputs": [
    {
     "name": "stdout",
     "output_type": "stream",
     "text": [
      "2024-02-14 12:08:33.595574\n",
      " [x] Sent 'b'{\"direction\": \"\\\\u5356\", \"offset\": \"\\\\u5f00\", \"exchange\": \"SHO\", \"code\": \"10006511\", \"amount\": 30, \"amount2\": 30, \"id\": \"a09980da-996c-4a33-8d65-565a5c0c5bdf\"}''\n",
      "2024-02-14 12:08:33.602651\n",
      " [x] Sent 'b'{\"direction\": \"\\\\u5356\", \"offset\": \"\\\\u5f00\", \"exchange\": \"SHO\", \"code\": \"10006511\", \"amount\": 30, \"amount2\": 30, \"id\": \"badb871c-2266-4e61-9d41-6fc6e26a7e65\"}''\n",
      "2024-02-14 12:08:33.602651\n",
      " [x] Sent 'b'{\"direction\": \"\\\\u5356\", \"offset\": \"\\\\u5f00\", \"exchange\": \"SHO\", \"code\": \"10006511\", \"amount\": 30, \"amount2\": 30, \"id\": \"11f6fdf5-74df-4905-8147-7a0c035e53eb\"}''\n",
      "2024-02-14 12:08:43.651981\n",
      " [x] Sent 'b'{\"direction\": \"\\\\u5356\", \"offset\": \"\\\\u5f00\", \"exchange\": \"SHO\", \"code\": \"10006511\", \"amount\": 30, \"amount2\": 30, \"id\": \"0a3c8c92-4e95-4197-9ccb-8fd957c8ac63\"}''\n"
     ]
    }
   ],
   "source": [
    "traders[0].sender.close()\n",
    "with ThreadPoolExecutor(max_workers=8) as executor:\n",
    "    for trader in traders:\n",
    "        executor.submit(trader.run)"
   ]
  },
  {
   "cell_type": "code",
   "execution_count": null,
   "metadata": {},
   "outputs": [],
   "source": []
  }
 ],
 "metadata": {
  "kernelspec": {
   "display_name": "oquant",
   "language": "python",
   "name": "python3"
  },
  "language_info": {
   "codemirror_mode": {
    "name": "ipython",
    "version": 3
   },
   "file_extension": ".py",
   "mimetype": "text/x-python",
   "name": "python",
   "nbconvert_exporter": "python",
   "pygments_lexer": "ipython3",
   "version": "3.12.0"
  }
 },
 "nbformat": 4,
 "nbformat_minor": 2
}
